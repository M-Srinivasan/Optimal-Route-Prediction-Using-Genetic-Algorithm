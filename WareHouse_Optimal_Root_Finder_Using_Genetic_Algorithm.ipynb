{
  "nbformat": 4,
  "nbformat_minor": 0,
  "metadata": {
    "colab": {
      "provenance": []
    },
    "kernelspec": {
      "name": "python3",
      "display_name": "Python 3"
    },
    "language_info": {
      "name": "python"
    }
  },
  "cells": [
    {
      "cell_type": "markdown",
      "source": [
        "**Importing**\n"
      ],
      "metadata": {
        "id": "XOzftj7XfDPL"
      }
    },
    {
      "cell_type": "code",
      "execution_count": 17,
      "metadata": {
        "colab": {
          "base_uri": "https://localhost:8080/"
        },
        "id": "VKDHf0iodLfA",
        "outputId": "aad3a571-b42f-41d4-a3cc-dd15ac81fdad"
      },
      "outputs": [
        {
          "output_type": "stream",
          "name": "stdout",
          "text": [
            "Requirement already satisfied: matplotlib in /usr/local/lib/python3.10/dist-packages (3.10.0)\n",
            "Requirement already satisfied: contourpy>=1.0.1 in /usr/local/lib/python3.10/dist-packages (from matplotlib) (1.3.1)\n",
            "Requirement already satisfied: cycler>=0.10 in /usr/local/lib/python3.10/dist-packages (from matplotlib) (0.12.1)\n",
            "Requirement already satisfied: fonttools>=4.22.0 in /usr/local/lib/python3.10/dist-packages (from matplotlib) (4.55.3)\n",
            "Requirement already satisfied: kiwisolver>=1.3.1 in /usr/local/lib/python3.10/dist-packages (from matplotlib) (1.4.8)\n",
            "Requirement already satisfied: numpy>=1.23 in /usr/local/lib/python3.10/dist-packages (from matplotlib) (1.26.4)\n",
            "Requirement already satisfied: packaging>=20.0 in /usr/local/lib/python3.10/dist-packages (from matplotlib) (24.2)\n",
            "Requirement already satisfied: pillow>=8 in /usr/local/lib/python3.10/dist-packages (from matplotlib) (11.1.0)\n",
            "Requirement already satisfied: pyparsing>=2.3.1 in /usr/local/lib/python3.10/dist-packages (from matplotlib) (3.2.1)\n",
            "Requirement already satisfied: python-dateutil>=2.7 in /usr/local/lib/python3.10/dist-packages (from matplotlib) (2.8.2)\n",
            "Requirement already satisfied: six>=1.5 in /usr/local/lib/python3.10/dist-packages (from python-dateutil>=2.7->matplotlib) (1.17.0)\n",
            "Requirement already satisfied: matplotlib in /usr/local/lib/python3.10/dist-packages (3.10.0)\n",
            "Requirement already satisfied: deap in /usr/local/lib/python3.10/dist-packages (1.4.1)\n",
            "Requirement already satisfied: contourpy>=1.0.1 in /usr/local/lib/python3.10/dist-packages (from matplotlib) (1.3.1)\n",
            "Requirement already satisfied: cycler>=0.10 in /usr/local/lib/python3.10/dist-packages (from matplotlib) (0.12.1)\n",
            "Requirement already satisfied: fonttools>=4.22.0 in /usr/local/lib/python3.10/dist-packages (from matplotlib) (4.55.3)\n",
            "Requirement already satisfied: kiwisolver>=1.3.1 in /usr/local/lib/python3.10/dist-packages (from matplotlib) (1.4.8)\n",
            "Requirement already satisfied: numpy>=1.23 in /usr/local/lib/python3.10/dist-packages (from matplotlib) (1.26.4)\n",
            "Requirement already satisfied: packaging>=20.0 in /usr/local/lib/python3.10/dist-packages (from matplotlib) (24.2)\n",
            "Requirement already satisfied: pillow>=8 in /usr/local/lib/python3.10/dist-packages (from matplotlib) (11.1.0)\n",
            "Requirement already satisfied: pyparsing>=2.3.1 in /usr/local/lib/python3.10/dist-packages (from matplotlib) (3.2.1)\n",
            "Requirement already satisfied: python-dateutil>=2.7 in /usr/local/lib/python3.10/dist-packages (from matplotlib) (2.8.2)\n",
            "Requirement already satisfied: six>=1.5 in /usr/local/lib/python3.10/dist-packages (from python-dateutil>=2.7->matplotlib) (1.17.0)\n"
          ]
        }
      ],
      "source": [
        "!pip install matplotlib\n",
        "!pip install matplotlib deap\n",
        "import random\n",
        "import numpy\n",
        "from deap import base, creator, tools, algorithms\n",
        "from matplotlib import pyplot as plt"
      ]
    },
    {
      "cell_type": "markdown",
      "source": [
        "**Defining**"
      ],
      "metadata": {
        "id": "W6PGpkpZfIwI"
      }
    },
    {
      "cell_type": "code",
      "source": [
        "num_location = 9\n",
        "location = []\n",
        "for i in range(num_location):\n",
        "  location.append((random.randint(0 , 100) ,random.randint(0 , 100)))\n",
        "depot = (45,60)\n",
        "num_vehicles = 3\n",
        "#Printing The Locations\n",
        "location"
      ],
      "metadata": {
        "colab": {
          "base_uri": "https://localhost:8080/"
        },
        "id": "gSEbSndXd4jY",
        "outputId": "ad6d8a24-0700-4c17-8743-d53d68477633"
      },
      "execution_count": 18,
      "outputs": [
        {
          "output_type": "execute_result",
          "data": {
            "text/plain": [
              "[(16, 25),\n",
              " (83, 7),\n",
              " (96, 37),\n",
              " (66, 54),\n",
              " (37, 13),\n",
              " (58, 88),\n",
              " (57, 98),\n",
              " (32, 7),\n",
              " (81, 8)]"
            ]
          },
          "metadata": {},
          "execution_count": 18
        }
      ]
    },
    {
      "cell_type": "markdown",
      "source": [
        "**Initializing The creator**"
      ],
      "metadata": {
        "id": "cNFhnFPjfLr7"
      }
    },
    {
      "cell_type": "code",
      "source": [
        "creator.create(\"FitnessMin\", base.Fitness , weights = (-1.0 , -1.0))#adding 2 minus one cause we have two factors to look total distance and std\n",
        "creator.create(\"Individual\", list , fitness = creator.FitnessMin )"
      ],
      "metadata": {
        "colab": {
          "base_uri": "https://localhost:8080/"
        },
        "id": "TqByxHV6d8UL",
        "outputId": "255e6233-b208-4a4c-b4ce-d8f5b5c50b96"
      },
      "execution_count": 19,
      "outputs": [
        {
          "output_type": "stream",
          "name": "stderr",
          "text": [
            "/usr/local/lib/python3.10/dist-packages/deap/creator.py:185: RuntimeWarning: A class named 'FitnessMin' has already been created and it will be overwritten. Consider deleting previous creation of that class or rename it.\n",
            "  warnings.warn(\"A class named '{0}' has already been created and it \"\n",
            "/usr/local/lib/python3.10/dist-packages/deap/creator.py:185: RuntimeWarning: A class named 'Individual' has already been created and it will be overwritten. Consider deleting previous creation of that class or rename it.\n",
            "  warnings.warn(\"A class named '{0}' has already been created and it \"\n"
          ]
        }
      ]
    },
    {
      "cell_type": "markdown",
      "source": [
        "**Initializing The Toolbox**"
      ],
      "metadata": {
        "id": "8oeajEoafQ5D"
      }
    },
    {
      "cell_type": "code",
      "source": [
        "toolbox = base.Toolbox()\n",
        "toolbox.register(\"indices\", random.sample, range(num_location), num_location)\n",
        "toolbox.register(\"individual\", tools.initIterate, creator.Individual, toolbox.indices)\n",
        "toolbox.register(\"population\", tools.initRepeat, list , toolbox.individual)"
      ],
      "metadata": {
        "id": "v0xNKTw5d_Md"
      },
      "execution_count": 20,
      "outputs": []
    },
    {
      "cell_type": "markdown",
      "source": [
        "**Eval Function**"
      ],
      "metadata": {
        "id": "__1n_fh_fTrd"
      }
    },
    {
      "cell_type": "code",
      "source": [
        "# Fitness Function\n",
        "def evalVRP(individual):\n",
        "\n",
        "    total_distance = 0\n",
        "    distances = []  # This will store the distance traveled by each vehicle\n",
        "\n",
        "    for i in range(num_vehicles):\n",
        "        vehicle_route = []\n",
        "        vehicle_route.append(depot)\n",
        "\n",
        "        for j in range(i, len(individual), num_vehicles):\n",
        "            vehicle_route.append(location[individual[j]])\n",
        "        vehicle_route.append(depot)\n",
        "        vehicle_distance = 0\n",
        "\n",
        "        for k in range(len(vehicle_route) - 1):\n",
        "            current_location = numpy.array(vehicle_route[k])\n",
        "            next_location = numpy.array(vehicle_route[k + 1])\n",
        "            distance = numpy.linalg.norm(next_location - current_location)\n",
        "            vehicle_distance += distance\n",
        "\n",
        "        total_distance += vehicle_distance\n",
        "        distances.append(vehicle_distance)\n",
        "\n",
        "    balance_penalty = numpy.std(distances)\n",
        "    return total_distance, balance_penalty\n",
        "\n",
        "toolbox.register(\"evaluate\", evalVRP)\n"
      ],
      "metadata": {
        "id": "q7TnkjoVeBeG"
      },
      "execution_count": 21,
      "outputs": []
    },
    {
      "cell_type": "code",
      "source": [
        "toolbox.register(\"mate\", tools.cxOrdered )\n",
        "toolbox.register(\"mutate\", tools.mutShuffleIndexes ,indpb=0.05 )\n",
        "toolbox.register(\"select\", tools.selTournament, tournsize=10)"
      ],
      "metadata": {
        "id": "IrheDr_AeIuN"
      },
      "execution_count": 22,
      "outputs": []
    },
    {
      "cell_type": "markdown",
      "source": [
        "**Plotting**"
      ],
      "metadata": {
        "id": "b5SLSGTkfafw"
      }
    },
    {
      "cell_type": "code",
      "source": [
        "def plot_routes(individual, title=\"Routes\"):\n",
        "    plt.figure()\n",
        "    # Plot locations as blue dots and the depot as a red square\n",
        "    for (x, y) in location:\n",
        "        plt.plot(x, y, 'bo')\n",
        "    plt.plot(depot[0], depot[1], 'rs')\n",
        "\n",
        "    # Draw routes for each vehicle\n",
        "    for i in range(num_vehicles):\n",
        "        vehicle_route = [depot] + [location[individual[j]] for j in range(i, len(individual), num_vehicles)] + [depot]\n",
        "        plt.plot(*zip(*vehicle_route), '-', 'rs')\n",
        "\n",
        "    plt.title(title)\n",
        "    plt.xlabel('X Coordinate')\n",
        "    plt.ylabel('Y Coordinate')\n",
        "    plt.show()"
      ],
      "metadata": {
        "id": "0cI_bbVoeLMj"
      },
      "execution_count": 23,
      "outputs": []
    },
    {
      "cell_type": "markdown",
      "source": [
        "**Main Function**"
      ],
      "metadata": {
        "id": "M4m56r46fc8_"
      }
    },
    {
      "cell_type": "code",
      "source": [
        "def main():\n",
        "    random.seed(42)\n",
        "    pop = toolbox.population(n=300)\n",
        "    hof = tools.HallOfFame(1)\n",
        "\n",
        "    # Setup statistics to track\n",
        "    stats = tools.Statistics(lambda ind: ind.fitness.values)\n",
        "    stats.register(\"avg\", numpy.mean)\n",
        "    stats.register(\"min\", numpy.min)\n",
        "\n",
        "    # Run the genetic algorithm\n",
        "    algorithms.eaSimple(pop, toolbox, 0.7, 0.2, 100, stats=stats, halloffame=hof)\n",
        "\n",
        "    # Plot the best route found\n",
        "    plot_routes(hof[0], \"Optimal Route\")\n",
        "    return pop, stats, hof\n",
        "\n",
        "if __name__ == \"__main__\":\n",
        "  main()"
      ],
      "metadata": {
        "colab": {
          "base_uri": "https://localhost:8080/",
          "height": 1000
        },
        "id": "R4tZcyhxeM_-",
        "outputId": "12ca38e0-23fe-4e9a-c7e3-6067f1561199"
      },
      "execution_count": 25,
      "outputs": [
        {
          "output_type": "stream",
          "name": "stdout",
          "text": [
            "gen\tnevals\tavg    \tmin    \n",
            "0  \t300   \t326.493\t1.33621\n",
            "1  \t234   \t298.942\t1.07467\n",
            "2  \t224   \t289.256\t1.5831 \n",
            "3  \t216   \t276.916\t1.58899\n",
            "4  \t233   \t268.05 \t2.77322\n",
            "5  \t230   \t246.485\t6.36969\n",
            "6  \t225   \t229.387\t3.86015\n",
            "7  \t212   \t213.96 \t6.6467 \n",
            "8  \t216   \t222.044\t3.86015\n",
            "9  \t211   \t213.366\t8.11796\n",
            "10 \t204   \t209.752\t8.11796\n",
            "11 \t234   \t209.649\t6.43784\n",
            "12 \t219   \t208.948\t5.61356\n",
            "13 \t241   \t207.285\t5.61356\n",
            "14 \t237   \t208.909\t8.19006\n",
            "15 \t228   \t209.548\t8.19006\n",
            "16 \t219   \t208.399\t11.3411\n",
            "17 \t221   \t209.274\t8.19006\n",
            "18 \t218   \t206.751\t6.78112\n",
            "19 \t236   \t208.777\t9.39367\n",
            "20 \t221   \t208.516\t14.5949\n",
            "21 \t237   \t208.134\t5.61356\n",
            "22 \t225   \t206.113\t11.3411\n",
            "23 \t241   \t206.799\t11.3411\n",
            "24 \t226   \t209.101\t4.78874\n",
            "25 \t231   \t210.68 \t5.61356\n",
            "26 \t231   \t211.019\t5.61356\n",
            "27 \t222   \t207.216\t11.3411\n",
            "28 \t216   \t211.721\t8.01913\n",
            "29 \t222   \t208.378\t11.3411\n",
            "30 \t231   \t208.914\t8.19006\n",
            "31 \t212   \t209.002\t16.5388\n",
            "32 \t219   \t207.83 \t14.5949\n",
            "33 \t222   \t207.83 \t4.54119\n",
            "34 \t214   \t206.719\t14.802 \n",
            "35 \t222   \t207.086\t5.61356\n",
            "36 \t220   \t209.116\t8.20601\n",
            "37 \t238   \t208.872\t12.9602\n",
            "38 \t242   \t209.427\t8.19006\n",
            "39 \t238   \t207.587\t7.45579\n",
            "40 \t227   \t209.432\t8.19006\n",
            "41 \t245   \t205.862\t4.09464\n",
            "42 \t227   \t208.96 \t5.61356\n",
            "43 \t236   \t210.978\t8.19006\n",
            "44 \t217   \t206.241\t19.5384\n",
            "45 \t239   \t210.068\t8.19006\n",
            "46 \t211   \t207.14 \t12.9602\n",
            "47 \t223   \t208.113\t11.3411\n",
            "48 \t218   \t206.068\t5.93725\n",
            "49 \t227   \t205.163\t12.9602\n",
            "50 \t253   \t207.837\t5.61356\n",
            "51 \t242   \t209.472\t8.19006\n",
            "52 \t236   \t209.103\t5.61356\n",
            "53 \t235   \t208.503\t9.77545\n",
            "54 \t222   \t208.043\t12.9602\n",
            "55 \t247   \t210.36 \t11.3411\n",
            "56 \t219   \t206.204\t5.05322\n",
            "57 \t233   \t205.584\t11.3411\n",
            "58 \t231   \t208.904\t8.20601\n",
            "59 \t231   \t208.904\t4.98762\n",
            "60 \t227   \t207.735\t14.5949\n",
            "61 \t221   \t207.428\t8.28112\n",
            "62 \t215   \t208.63 \t8.28112\n",
            "63 \t233   \t206.673\t14.802 \n",
            "64 \t239   \t207.947\t11.3411\n",
            "65 \t216   \t211.622\t5.95363\n",
            "66 \t211   \t207.081\t14.5949\n",
            "67 \t223   \t206.887\t11.3411\n",
            "68 \t235   \t209.087\t5.61356\n",
            "69 \t227   \t208.579\t13.3938\n",
            "70 \t234   \t210.355\t8.20601\n",
            "71 \t232   \t207.472\t9.77545\n",
            "72 \t231   \t207.772\t8.94425\n",
            "73 \t234   \t205.988\t18.7305\n",
            "74 \t231   \t205.006\t12.9602\n",
            "75 \t213   \t206.712\t8.19006\n",
            "76 \t225   \t208.195\t4.35164\n",
            "77 \t225   \t207.923\t8.19006\n",
            "78 \t229   \t207.844\t12.9602\n",
            "79 \t224   \t209.116\t12.9602\n",
            "80 \t236   \t210.698\t9.44532\n",
            "81 \t222   \t208.449\t11.3411\n",
            "82 \t223   \t212.572\t5.61356\n",
            "83 \t219   \t211.703\t5.61356\n",
            "84 \t230   \t209.408\t11.3411\n",
            "85 \t224   \t208.311\t14.802 \n",
            "86 \t211   \t207.506\t5.61356\n",
            "87 \t215   \t207.347\t18.8765\n",
            "88 \t236   \t209.674\t8.01364\n",
            "89 \t241   \t210.347\t8.19006\n",
            "90 \t213   \t205.58 \t14.5949\n",
            "91 \t237   \t207.602\t5.52985\n",
            "92 \t237   \t208.133\t12.9602\n",
            "93 \t224   \t206.839\t13.9474\n",
            "94 \t227   \t208.397\t16.0176\n",
            "95 \t215   \t209.103\t11.3411\n",
            "96 \t223   \t210.081\t5.61356\n",
            "97 \t215   \t206.035\t11.3411\n",
            "98 \t223   \t208.101\t4.78874\n",
            "99 \t228   \t208.983\t5.61356\n",
            "100\t235   \t211.087\t4.67711\n"
          ]
        },
        {
          "output_type": "display_data",
          "data": {
            "text/plain": [
              "<Figure size 640x480 with 1 Axes>"
            ],
            "image/png": "[encoded data removed]"
          },
          "metadata": {}
        }
      ]
    },
    {
      "cell_type": "code",
      "source": [],
      "metadata": {
        "id": "y6dgbKX4e22B"
      },
      "execution_count": null,
      "outputs": []
    }
  ]
}